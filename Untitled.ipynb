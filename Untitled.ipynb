{
 "cells": [
  {
   "cell_type": "code",
   "execution_count": 3,
   "metadata": {},
   "outputs": [
    {
     "data": {
      "text/plain": [
       "Plots.PyPlotBackend()"
      ]
     },
     "execution_count": 3,
     "metadata": {},
     "output_type": "execute_result"
    }
   ],
   "source": [
    "using Plots \n",
    "pyplot()"
   ]
  },
  {
   "cell_type": "code",
   "execution_count": null,
   "metadata": {},
   "outputs": [],
   "source": [
    "n = 1000\n",
    "r = LinRange(0,2,n)\n",
    "k = LinRange(0,2,n)\n",
    "x = LinRange(0,2,n)\n",
    "count = 0\n",
    "#pl = zeros(n,n,n)\n",
    "\n",
    "for i=1:n\n",
    "    r1 = r[i]\n",
    "    for j=1:n\n",
    "        k1 = k[j]\n",
    "        for l=1:n\n",
    "            x1 = x[l]\n",
    "            LHS = r1*(1-(1/k1))\n",
    "            RHS = (1-x1^2)/(1+x1)^2\n",
    "            if abs(LHS - RHS)>1E-6\n",
    "                pl[i,j,l] = 1\n",
    "                count = count + 1\n",
    "            end\n",
    "        end\n",
    "    end\n",
    "end\n",
    "\n",
    "pr = zeros(count)\n",
    "pk = zeros(count)\n",
    "  \n",
    "count = 1\n",
    "for i=1:n\n",
    "    for j=1:n\n",
    "        for l=1:n\n",
    "            if pl[i,j,l] == 1\n",
    "                pr[count] = r[i]\n",
    "                pk[count] = k[j]\n",
    "                count = count +1\n",
    "            end\n",
    "        end\n",
    "    end\n",
    "end\n",
    "\n",
    "plot(pk,pr)\n",
    "                \n",
    "            "
   ]
  },
  {
   "cell_type": "code",
   "execution_count": 20,
   "metadata": {},
   "outputs": [
    {
     "name": "stdout",
     "output_type": "stream",
     "text": [
      "[0.37037, 1.11111][5.13514, 10.0]"
     ]
    }
   ],
   "source": [
    "print(pr) \n",
    "print(pk)"
   ]
  },
  {
   "cell_type": "code",
   "execution_count": null,
   "metadata": {},
   "outputs": [],
   "source": []
  }
 ],
 "metadata": {
  "kernelspec": {
   "display_name": "Julia 1.0.0",
   "language": "julia",
   "name": "julia-1.0"
  },
  "language_info": {
   "file_extension": ".jl",
   "mimetype": "application/julia",
   "name": "julia",
   "version": "1.0.0"
  }
 },
 "nbformat": 4,
 "nbformat_minor": 2
}
